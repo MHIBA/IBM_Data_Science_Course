{
    "cells": [
        {
            "metadata": {
                "collapsed": true
            },
            "cell_type": "markdown",
            "source": "# My Jupyter Notebook on IBM Watson Studio"
        },
        {
            "metadata": {},
            "cell_type": "markdown",
            "source": "## M. Hilmi IBA\n\n87,4% Student"
        },
        {
            "metadata": {},
            "cell_type": "markdown",
            "source": "---\n*I am interested in data science because I want to catch up with times*\n***"
        },
        {
            "metadata": {},
            "cell_type": "markdown",
            "source": "### This program adds two numbers"
        },
        {
            "metadata": {},
            "cell_type": "code",
            "source": "5+3 ",
            "execution_count": 10,
            "outputs": [
                {
                    "output_type": "execute_result",
                    "execution_count": 10,
                    "data": {
                        "text/plain": "8"
                    },
                    "metadata": {}
                }
            ]
        },
        {
            "metadata": {},
            "cell_type": "markdown",
            "source": "---\n\n\n* Bullet List\n* Bullet List\n* Bullet List\n\n\n\nMarkdown | Less | Pretty\n--- | --- | ---\n*Still* | `renders` | **nicely**\n1 | 2 | 3\n\n\n1. List item\n2. List item\n3. List Item\n\n[Best Python Courses](https://digitaldefynd.com/best-python-tutorial-class-certification-course-training-online/ \"Best Python Courses\")\n"
        }
    ],
    "metadata": {
        "kernelspec": {
            "name": "python3",
            "display_name": "Python 3.6",
            "language": "python"
        },
        "language_info": {
            "name": "python",
            "version": "3.6.9",
            "mimetype": "text/x-python",
            "codemirror_mode": {
                "name": "ipython",
                "version": 3
            },
            "pygments_lexer": "ipython3",
            "nbconvert_exporter": "python",
            "file_extension": ".py"
        }
    },
    "nbformat": 4,
    "nbformat_minor": 1
}